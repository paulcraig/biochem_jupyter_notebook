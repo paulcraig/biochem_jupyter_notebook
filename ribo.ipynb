{
 "cells": [
  {
   "cell_type": "code",
   "execution_count": 1,
   "metadata": {},
   "outputs": [],
   "source": [
    "import os\n",
    "import tempfile\n",
    "import requests\n",
    "import zipfile\n",
    "import pandas as pd\n",
    "import numpy as np\n",
    "import matplotlib.pyplot as plt"
   ]
  },
  {
   "cell_type": "markdown",
   "metadata": {},
   "source": [
    "# Using python with the PhotoChemCAD database\n",
    "\n",
    "**Scott Prahl**\n",
    "\n",
    "**January 2021**\n",
    "\n",
    "## Download the current entire PhotochemCAD archive\n",
    "\n",
    "Store the archive locally so it does not need to be downloaded repeatedly."
   ]
  },
  {
   "cell_type": "code",
   "execution_count": 2,
   "metadata": {},
   "outputs": [],
   "source": [
    "url = 'http://www.photochemcad.com/download/PhotochemCAD3.zip'\n",
    "\n",
    "filename = 'PhotochemCAD3.zip'\n",
    "\n",
    "if not os.path.isfile(filename):\n",
    "\n",
    "    r = requests.get(url, allow_redirects=True)\n",
    "    if not r.ok:\n",
    "        print(\"Downloading URL '%s' failed: '%s'\" % (url, r.reason))\n",
    "        exit()\n",
    "\n",
    "    f = open(filename, 'wb')\n",
    "    f.write(r.content)\n",
    "    f.close()\n",
    "\n",
    "zf = zipfile.ZipFile(filename, 'r')"
   ]
  },
  {
   "cell_type": "markdown",
   "metadata": {},
   "source": [
    "## Parse the database records\n",
    "\n",
    "Pandas is extraordinarily good at this.  We leave the database inside the .zip file and just extract a dataframe."
   ]
  },
  {
   "cell_type": "code",
   "execution_count": 3,
   "metadata": {},
   "outputs": [],
   "source": [
    "path = 'PhotochemCAD3/PCAD3 Compd Database 2018/'\n",
    "db_name = '2018_03 PCAD3.db'\n",
    "df = pd.read_csv(zf.open(path + db_name), encoding='latin_1', sep=\"\\t\", index_col=0)"
   ]
  },
  {
   "cell_type": "markdown",
   "metadata": {},
   "source": [
    "## Find the Riboflavin absorption file\n",
    "\n",
    "Here we search through the dataframe to find the right row for Riboflavin.  Using `to_dict()` is a super simple way to extract the information in the row so it is in a useful format.  "
   ]
  },
  {
   "cell_type": "code",
   "execution_count": 4,
   "metadata": {},
   "outputs": [],
   "source": [
    "name = 'Riboflavin'\n",
    "ribo = df.loc[df['Name']==name].to_dict('records')[0]   # just want the first entry in the array\n",
    "epsilon = float(ribo['Epsilon'].replace(',',''))        # delete commas and convert to a number\n",
    "solvent = ribo['Solvent']"
   ]
  },
  {
   "cell_type": "markdown",
   "metadata": {},
   "source": [
    "## Plot the result"
   ]
  },
  {
   "cell_type": "code",
   "execution_count": 5,
   "metadata": {},
   "outputs": [
    {
     "data": {
      "image/png": "[encoded data removed]",
      "text/plain": [
       "<Figure size 432x288 with 1 Axes>"
      ]
     },
     "metadata": {
      "needs_background": "light"
     },
     "output_type": "display_data"
    },
    {
     "name": "stdout",
     "output_type": "stream",
     "text": [
      "e =  33000 (270 nm) in ethanol (Koziol, 1966), additional references and notes for emission spectra: [(Koziol, 1965) 0.36 in acetone, 0.37 in dioxane, 0.23 in water] [(Sun, 1972) 0.32 in ethanol] \n"
     ]
    }
   ],
   "source": [
    "x,y = np.loadtxt(zf.open(path + ribo['File']), skiprows=1, dtype=float).T\n",
    "plt.plot(x,y*epsilon)\n",
    "plt.xlabel('Wavelength (nm)')\n",
    "plt.ylabel('Molar Absorption (1/cm/M)')\n",
    "plt.title(name + ' in ' + solvent)\n",
    "plt.show()\n",
    "\n",
    "print(ribo['Reference'])"
   ]
  },
  {
   "cell_type": "markdown",
   "metadata": {},
   "source": [
    "## All the data for this particular spectra"
   ]
  },
  {
   "cell_type": "code",
   "execution_count": 6,
   "metadata": {},
   "outputs": [
    {
     "data": {
      "text/plain": [
       "{'Absorption': nan,\n",
       " 'Name': 'Riboflavin',\n",
       " 'Structure': 'F14_83-88-5_Riboflavin.str.tif',\n",
       " 'Class': 'Biomolecules',\n",
       " 'File': 'F14_83-88-5_Riboflavin.abs.txt',\n",
       " 'Wavelength': 263.0,\n",
       " 'Epsilon': '33,000',\n",
       " 'Solvent': 'ethanol',\n",
       " 'Instrument': 'Cary 3',\n",
       " 'Date': '6/24/1997',\n",
       " 'Reference': 'e =  33000 (270 nm) in ethanol (Koziol, 1966), additional references and notes for emission spectra: [(Koziol, 1965) 0.36 in acetone, 0.37 in dioxane, 0.23 in water] [(Sun, 1972) 0.32 in ethanol] ',\n",
       " 'Inv': 'Ruchun A. Fuh',\n",
       " 'Emission': nan,\n",
       " 'File.1': 'F14_83-88-5_Riboflavin.ems.txt',\n",
       " 'Solvent.1': 'ethanol',\n",
       " 'Quantum Yield': 0.3,\n",
       " 'Instrument.1': 'Spex FluoroMax',\n",
       " 'Date.1': '6/24/1997',\n",
       " 'Reference.1': '0.3 in ethanol (Koziol, 1966), additional references and notes for emission spectra: [(Koziol, 1965) 0.36 in acetone, 0.37 in dioxane, 0.23 in water] [(Sun, 1972) 0.32 in ethanol] ',\n",
       " 'Inv.1': 'Ruchun A. Fuh',\n",
       " 'Unnamed: 21': nan}"
      ]
     },
     "execution_count": 6,
     "metadata": {},
     "output_type": "execute_result"
    }
   ],
   "source": [
    "ribo"
   ]
  },
  {
   "cell_type": "code",
   "execution_count": null,
   "metadata": {},
   "outputs": [],
   "source": []
  }
 ],
 "metadata": {
  "kernelspec": {
   "display_name": "Python 3",
   "language": "python",
   "name": "python3"
  },
  "language_info": {
   "codemirror_mode": {
    "name": "ipython",
    "version": 3
   },
   "file_extension": ".py",
   "mimetype": "text/x-python",
   "name": "python",
   "nbconvert_exporter": "python",
   "pygments_lexer": "ipython3",
   "version": "3.7.6"
  }
 },
 "nbformat": 4,
 "nbformat_minor": 5
}
