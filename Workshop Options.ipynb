{
 "cells": [
  {
   "cell_type": "markdown",
   "metadata": {},
   "source": [
    "## Workshop Options\n",
    "This is a list of potential workshop locations with contact information."
   ]
  },
  {
   "cell_type": "markdown",
   "metadata": {},
   "source": [
    "| Conference | Institution | Date | Location | Email | Phone |\n",
    "| :--------- | :---------: | :--: | :------: | :---: | :---: |\n",
    "| Local Symposium | Rochester ACS | 2022 |  | Jim Reynolds <reynolds.jim@gmail.com>| |\n",
    "| Local Symposium | Rochester Academy of Science | 2022 | | Karen Wolf <director6@rasny.org> | (585)273-4500 |\n",
    "| NERM | ACS | October 8-11, 2021 | Boston, MA | https://2021.nermconference.org/contact.html | | \n",
    "| MARM | ACS | 2022 | | | |\n",
    "| SERM | ACS | Nov 10-13, 2021 | Birmingham, AL | https://www.sermacs2021.org/contact.html | |\n",
    "| Transforming Education in the Molecular Life Sciences | ASBMB | 2023 | |baileyc@mtmary.edu |  (414) 930-3111 |\n",
    "| BCCE | ACS | 2022 | | Marcy Towns <mtowns@purdue.edu> | 765-496-1574 |\n",
    "| Annual Conference | Biophysical Society | Feb 19, 2022 - Wednesday, Feb 23, 2022 | San Francisco | | |\n",
    "| Annual Conference | ASBMB | April, 2022 | Indianapolis, IN ??? | | |\n",
    "| REU Programs | NSF | 2022 - | Many possible | elcarpen@nsf.gov | (703)292-5104; (310)384-7897|\n",
    "| Biophysics Training Grant | NIH | | | | |"
   ]
  },
  {
   "cell_type": "code",
   "execution_count": null,
   "metadata": {},
   "outputs": [],
   "source": []
  }
 ],
 "metadata": {
  "kernelspec": {
   "display_name": "Python 3",
   "language": "python",
   "name": "python3"
  },
  "language_info": {
   "codemirror_mode": {
    "name": "ipython",
    "version": 3
   },
   "file_extension": ".py",
   "mimetype": "text/x-python",
   "name": "python",
   "nbconvert_exporter": "python",
   "pygments_lexer": "ipython3",
   "version": "3.7.6"
  }
 },
 "nbformat": 4,
 "nbformat_minor": 4
}
