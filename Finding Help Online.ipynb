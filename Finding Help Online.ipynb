{
 "cells": [
  {
   "cell_type": "markdown",
   "metadata": {},
   "source": [
    "### Finding help online\n",
    "Everyone who programs - established coders and beginners - encounter problems when they write code. How do you find solutions?\n",
    "\n",
    "1. You can ask an expert\n",
    "    1. if you have one; and\n",
    "    2. if you have not been bugging them too much.\n",
    "1. You can ask Google, which will take you to a wonderland called [Stack Overflow](https://stackoverflow.com/), where you can type in your question."
   ]
  },
  {
   "cell_type": "code",
   "execution_count": null,
   "metadata": {},
   "outputs": [],
   "source": []
  }
 ],
 "metadata": {
  "kernelspec": {
   "display_name": "Python 3",
   "language": "python",
   "name": "python3"
  },
  "language_info": {
   "codemirror_mode": {
    "name": "ipython",
    "version": 3
   },
   "file_extension": ".py",
   "mimetype": "text/x-python",
   "name": "python",
   "nbconvert_exporter": "python",
   "pygments_lexer": "ipython3",
   "version": "3.7.6"
  }
 },
 "nbformat": 4,
 "nbformat_minor": 4
}
