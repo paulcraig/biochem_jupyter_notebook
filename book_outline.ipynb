{
 "cells": [
  {
   "cell_type": "markdown",
   "metadata": {},
   "source": [
    "# Outline for Python Scripting for Biochemists\n",
    "This workshop is based on Python Scripting for [Computational Molecular Sciences](http://education.molssi.org/python_scripting_cms/)."
   ]
  },
  {
   "cell_type": "markdown",
   "metadata": {},
   "source": [
    "## Modules\n",
    "1. Setup\n",
    "2. Introduction with calculations using enzyme kinetics\n",
    "3. File parsing for data sets for a promiscuous enzyme with multiple substrates\n",
    "4. Plotting and linear curve fitting for protein concentration calibration curves using numpy\n",
    "5. Plotting and nonlinear curve fitting for saturable single substrate enzyme kinetics using numpy\n",
    "6. Writing functions\n",
    "7. Running code from the Linux command line\n",
    "8. Testing code with pytest\n",
    "9. Version control with git \n",
    "10. Sharing code\n",
    "11. Introduction to panda using data sets derived from the PDB\n",
    "12. Plotting UV-Visible spectra using matplotlib including making interactive spectra with magic % "
   ]
  },
  {
   "cell_type": "markdown",
   "metadata": {},
   "source": [
    "## Meeting Notes: BASIL team on Monday, 25 Jan 2021\n",
    "[//]: # ![BASIL Team Interview](BASIL_Interview_Monday_25Jan2021.jpg)\n",
    "\n",
    "Date: Monday January 25, 2021\n",
    "Interview with BASIL Team members: Bonnie Hall, Julia Koeppe, Jose Tormos Melendez, Cassidy Terrell\n",
    "\n",
    "### Details\n",
    "I told them that I was creating a workshop based on Ashley's Python Scripting for CMS workshops and that I wanted to focus on things biochemists need to learn.\n",
    "1. Manipulating a PDB file\n",
    "    1. Using Biopython\n",
    "    1. What data would you want to extract from a PDB file?\n",
    "    1. They might want to measure a distance\n",
    "1. Enzyme kinetics from a plate reader\n",
    "    1. lots of data\n",
    "    1. merging multiple data sets\n",
    "    1. converting raw data to derivatized data\n",
    "        1. students don't understand that it is a time course for absorbance values as a function of time at a fixed wavelength\n",
    "        1. subtracting a negative control\n",
    "    1. look over the data and decide to reduce or increase enzyme concentration\n",
    "1. Tools that would be useful\n",
    "    1. LaTeX equations training\n",
    "    1. Greek letters\n",
    "    1. Quadratic equations\n",
    "    1. Equilibrium calculations: e.g., is this ionizable group protonated or deprotonated at a given pH?\n",
    "    1. pH profiles of activities for enzymes with amino acid substitutions\n",
    "        1. Does the activity change?\n",
    "        1. Does the pH optimum change?\n",
    "        1. Can you extract a pK<sub>a</sub> value from the data?\n",
    "1. More sophisticated ideas\n",
    "    1. Ask students to use python to reproduce a plot given the data \n",
    "    1. Predictive modeling and clustering\n",
    "    1. K nearest neighbor\n",
    "    1. Heat mapping data\n",
    "    \n",
    "### Emerging ideas\n",
    "- Students need to learn things they will use\n",
    "- A toolbox of resources would be nice\n",
    "    - Greek letters\n",
    "    - LaTeX equation training\n",
    "    - Common calculations: pH, pKa, M-M, quadratic equations\n",
    "- Plate readers produce lots of data. Tools for merging, manipulating, and analyzing these data files would be useful\n",
    "    - enzyme assays\n",
    "    - protein assays\n",
    "    - immunoassays\n",
    "- Some faculty will want more advanced tools for their research students\n",
    "    - Heat mapping (what is that?)\n",
    "    - K nearest neighbor analysis\n",
    "    - Predictive modeling and clustering\n"
   ]
  },
  {
   "cell_type": "markdown",
   "metadata": {},
   "source": [
    "## Meeting Notes: Phil Ortiz on Wednesday, 27 Jan 2021\n",
    "![Phil Ortiz Interview](Phil_Ortiz_Interview_Wednesday_27Jan2021.jpg)\n",
    "\n",
    "Date: Wednesday January 27, 2021\n",
    "Interview with Phil Ortiz\n",
    "\n",
    "General ideas: \n",
    "* He is not certain that students need any coding experience. \n",
    "* He thinks they definitely need to know how to use a spreadsheet to analyze and plot data.\n",
    "    * He strongly favors having students learn to build their own spreadsheets\n",
    "    * He learned on Lotus 1-2-3 and Sigma Plot\n",
    "* He is a strong advocate of quantitative skills for the students\n",
    "* He mentioned a number of challenging calculations\n",
    "    * Michaelis-Menten\n",
    "    * Henderson-Hasselbalch: pH, pK_a\n",
    "* Computation could be handy for some more advanced topics\n",
    "    * Structure-function relationships: how does changing pH change the function of a protein?\n",
    "    * Hemoglobin would be a great example for this\n",
    "* Plots are important and difficult to generate\n",
    "    * Hydropathy plots\n",
    "    * Plot of helical wheels with colors to indidate charge and polarity (even better in 3D)\n",
    "    * It might be useful to go through a biochem textbook and look at the plots that are there"
   ]
  },
  {
   "cell_type": "code",
   "execution_count": null,
   "metadata": {},
   "outputs": [],
   "source": []
  }
 ],
 "metadata": {
  "kernelspec": {
   "display_name": "Python 3",
   "language": "python",
   "name": "python3"
  },
  "language_info": {
   "codemirror_mode": {
    "name": "ipython",
    "version": 3
   },
   "file_extension": ".py",
   "mimetype": "text/x-python",
   "name": "python",
   "nbconvert_exporter": "python",
   "pygments_lexer": "ipython3",
   "version": "3.7.6"
  }
 },
 "nbformat": 4,
 "nbformat_minor": 4
}
