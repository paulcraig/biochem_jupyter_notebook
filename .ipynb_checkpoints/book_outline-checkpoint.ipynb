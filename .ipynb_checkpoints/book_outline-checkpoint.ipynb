{
 "cells": [
  {
   "cell_type": "markdown",
   "metadata": {},
   "source": [
    "# Outline for Python Scripting for Biochemists\n",
    "This workshop is based on Python Scripting for [Computational Molecular Sciences](http://education.molssi.org/python_scripting_cms/)."
   ]
  },
  {
   "cell_type": "markdown",
   "metadata": {},
   "source": [
    "## Modules\n",
    "1. Setup\n",
    "2. Introduction with calculations using enzyme kinetics\n",
    "3. File parsing for data sets for a promiscuous enzyme with multiple substrates\n",
    "4. Plotting and linear curve fitting for protein concentration calibration curves using numpy\n",
    "5. Plotting and nonlinear curve fitting for saturable single substrate enzyme kinetics using numpy\n",
    "6. Writing functions\n",
    "7. Running code from the Linux command line\n",
    "8. Testing code with pytest\n",
    "9. Version control with git \n",
    "10. Sharing code\n",
    "11. Introduction to panda using data sets derived from the PDB\n",
    "12. Plotting UV-Visible spectra using matplotlib including making interactive spectra with magic % "
   ]
  },
  {
   "cell_type": "markdown",
   "metadata": {},
   "source": [
    "## Meeting Notes: BASIL team on Monday, 25 Jan 2021"
   ]
  },
  {
   "cell_type": "markdown",
   "metadata": {},
   "source": [
    "## Meeting Notes: Phil Ortiz on Wednesday, 27 Jan 2021"
   ]
  },
  {
   "cell_type": "code",
   "execution_count": null,
   "metadata": {},
   "outputs": [],
   "source": []
  }
 ],
 "metadata": {
  "kernelspec": {
   "display_name": "Python 3",
   "language": "python",
   "name": "python3"
  },
  "language_info": {
   "codemirror_mode": {
    "name": "ipython",
    "version": 3
   },
   "file_extension": ".py",
   "mimetype": "text/x-python",
   "name": "python",
   "nbconvert_exporter": "python",
   "pygments_lexer": "ipython3",
   "version": "3.7.6"
  }
 },
 "nbformat": 4,
 "nbformat_minor": 4
}
