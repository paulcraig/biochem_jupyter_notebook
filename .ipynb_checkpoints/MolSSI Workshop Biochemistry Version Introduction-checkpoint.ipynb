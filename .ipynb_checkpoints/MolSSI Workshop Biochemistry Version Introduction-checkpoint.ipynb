{
 "cells": [
  {
   "cell_type": "markdown",
   "metadata": {},
   "source": [
    "# MolSSI Workshop Python Scripting for Biochemistry\n",
    "## Introduction\n",
    "\n",
    "This lesson covers Python basics like variable creation and assignment using the Jupyter notebook."
   ]
  },
  {
   "cell_type": "code",
   "execution_count": 1,
   "metadata": {},
   "outputs": [
    {
     "data": {
      "text/plain": [
       "10"
      ]
     },
     "execution_count": 1,
     "metadata": {},
     "output_type": "execute_result"
    }
   ],
   "source": [
    "3 + 7"
   ]
  },
  {
   "cell_type": "code",
   "execution_count": 2,
   "metadata": {},
   "outputs": [
    {
     "data": {
      "text/plain": [
       "-3640.7000000000003"
      ]
     },
     "execution_count": 2,
     "metadata": {},
     "output_type": "execute_result"
    }
   ],
   "source": [
    "deltaH = -541.5 #kJ/mole\n",
    "deltaS = 10.4  #kJ/(mole K)\n",
    "temp = 298       #Kelvin\n",
    "deltaG = deltaH - temp * deltaS\n",
    "deltaG"
   ]
  },
  {
   "cell_type": "markdown",
   "metadata": {},
   "source": [
    "### Biochemistry Alternative"
   ]
  },
  {
   "cell_type": "code",
   "execution_count": 1,
   "metadata": {},
   "outputs": [
    {
     "name": "stdout",
     "output_type": "stream",
     "text": [
      "34.78260869565217 nM/sec\n"
     ]
    }
   ],
   "source": [
    "Km = 15.0  # Km = 15 microM\n",
    "Vmax = 100.0 # Vmax = 100.0 nanoM/sec\n",
    "S = 8.0 # Substrate concentration is 8.0 microM\n",
    "V = Vmax * S/(Km + S)  #Michaelis-Menten equation\n",
    "print(V, \"nM/sec\")"
   ]
  },
  {
   "cell_type": "markdown",
   "metadata": {},
   "source": [
    "### Greek Letters in equations and printouts\n",
    "In biochemistry, we use Greek letters all the time. Here is some simple code that will allow you to print Greek letters any time you want. Keep in mind that you will need to execute these commands in a Jupyter notebook before you can use these types of print statements."
   ]
  },
  {
   "cell_type": "code",
   "execution_count": 4,
   "metadata": {},
   "outputs": [
    {
     "name": "stdout",
     "output_type": "stream",
     "text": [
      "['α', 'β', 'γ', 'δ', 'ε', 'ζ', 'η', 'θ', 'ι', 'κ', 'λ', 'μ', 'ν', 'ξ', 'ο', 'π', 'ρ', 'ς', 'σ', 'τ', 'υ', 'φ', 'χ', 'ψ', 'ω']\n"
     ]
    }
   ],
   "source": [
    "greek_letterz=[chr(code) for code in range(945,970)]\n",
    "\n",
    "print(greek_letterz)"
   ]
  },
  {
   "cell_type": "markdown",
   "metadata": {},
   "source": [
    "### Exercise\n",
    "Create a list using print statements where you match the Greek letter with its English word. Hint: we have not looked at lists yet, but you can refer to any of the characters in greek_letterz by its position in the list. So alpha is greek_letterz[0]; beta is greek_letterz[1] and so on."
   ]
  },
  {
   "cell_type": "code",
   "execution_count": 5,
   "metadata": {},
   "outputs": [
    {
     "name": "stdout",
     "output_type": "stream",
     "text": [
      "alpha: α\n",
      "beta: β\n",
      "gamma: γ\n"
     ]
    }
   ],
   "source": [
    "print(\"alpha:\", greek_letterz[0])\n",
    "print(\"beta:\", greek_letterz[1])\n",
    "print(\"gamma:\", greek_letterz[2])"
   ]
  },
  {
   "cell_type": "code",
   "execution_count": 29,
   "metadata": {},
   "outputs": [
    {
     "name": "stdout",
     "output_type": "stream",
     "text": [
      "34.78260869565217 μM/sec\n",
      "λ Λ\n"
     ]
    }
   ],
   "source": [
    "import greek_letters as greek\n",
    "Km = 15.0  # Km = 15 microM\n",
    "Vmax = 100.0 # Vmax = 100.0 microM/sec\n",
    "S = 8.0 # Substrate concentration is 8.0 microM\n",
    "V = Vmax * S/(Km + S)  #Michaelis-Menten equation\n",
    "print(V, \" \", greek.mu,\"M/sec\", sep='')\n",
    "print(greek.Lambda, greek.LAMBDA)"
   ]
  },
  {
   "cell_type": "code",
   "execution_count": 6,
   "metadata": {},
   "outputs": [
    {
     "name": "stdout",
     "output_type": "stream",
     "text": [
      "34.78260869565217 μM/sec\n"
     ]
    }
   ],
   "source": [
    "Km = 15.0  # Km = 15 microM\n",
    "Vmax = 100.0 # Vmax = 100.0 microM/sec\n",
    "S = 8.0 # Substrate concentration is 8.0 microM\n",
    "V = Vmax * S/(Km + S)  #Michaelis-Menten equation\n",
    "print(V, \" \", greek_letterz[11],\"M/sec\", sep='')"
   ]
  },
  {
   "cell_type": "markdown",
   "metadata": {},
   "source": [
    "### Finding help online\n",
    "Everyone who programs - established coders and beginners - encounter problems when they write code. How do you find solutions?\n",
    "\n",
    "1. You can ask an expert\n",
    "    1. if you have one; and\n",
    "    2. if you have not been bugging them too much.\n",
    "1. You can ask Google, which will take you to a wonderland called [Stack Overflow](https://stackoverflow.com/), where you can type in your question.\n"
   ]
  },
  {
   "cell_type": "code",
   "execution_count": 7,
   "metadata": {},
   "outputs": [
    {
     "name": "stdout",
     "output_type": "stream",
     "text": [
      "34.78260869565217 μM/sec\n",
      "34.78260869565217 μM/sec\n"
     ]
    }
   ],
   "source": [
    "print(V, \" \", greek_letterz[11],\"M/sec\", sep='')\n",
    "V * 1000\n",
    "print(V, \" \", greek_letterz[11],\"M/sec\", sep='')"
   ]
  },
  {
   "cell_type": "code",
   "execution_count": 8,
   "metadata": {},
   "outputs": [
    {
     "name": "stdout",
     "output_type": "stream",
     "text": [
      "34.78260869565217 μM/sec\n",
      "0.034782608695652174   mM/sec\n"
     ]
    }
   ],
   "source": [
    "print(V, \" \", greek_letterz[11],\"M/sec\", sep='')\n",
    "VmM = V / 1000\n",
    "print(VmM, \" \", \"mM/sec\")"
   ]
  },
  {
   "cell_type": "code",
   "execution_count": 9,
   "metadata": {},
   "outputs": [
    {
     "name": "stdout",
     "output_type": "stream",
     "text": [
      "34.78260869565217 μM/sec\n"
     ]
    }
   ],
   "source": [
    "# I can assign all these variables at once\n",
    "Km, Vmax, S = 15.0, 100.0, 8.0\n",
    "V = Vmax * S/(Km + S)  #Michaelis-Menten equation\n",
    "print(V, \" \", greek_letterz[11],\"M/sec\", sep='')"
   ]
  },
  {
   "cell_type": "code",
   "execution_count": 10,
   "metadata": {},
   "outputs": [
    {
     "data": {
      "text/plain": [
       "float"
      ]
     },
     "execution_count": 10,
     "metadata": {},
     "output_type": "execute_result"
    }
   ],
   "source": [
    "type(V)"
   ]
  },
  {
   "cell_type": "code",
   "execution_count": 11,
   "metadata": {},
   "outputs": [
    {
     "data": {
      "text/plain": [
       "float"
      ]
     },
     "execution_count": 11,
     "metadata": {},
     "output_type": "execute_result"
    }
   ],
   "source": [
    "type(Km)"
   ]
  },
  {
   "cell_type": "code",
   "execution_count": 12,
   "metadata": {},
   "outputs": [
    {
     "data": {
      "text/plain": [
       "float"
      ]
     },
     "execution_count": 12,
     "metadata": {},
     "output_type": "execute_result"
    }
   ],
   "source": [
    "type(Vmax)"
   ]
  },
  {
   "cell_type": "code",
   "execution_count": 13,
   "metadata": {},
   "outputs": [
    {
     "data": {
      "text/plain": [
       "str"
      ]
     },
     "execution_count": 13,
     "metadata": {},
     "output_type": "execute_result"
    }
   ],
   "source": [
    "Vmax_string = str(Vmax)\n",
    "type(Vmax_string)"
   ]
  },
  {
   "cell_type": "code",
   "execution_count": 14,
   "metadata": {},
   "outputs": [
    {
     "name": "stdout",
     "output_type": "stream",
     "text": [
      "This list contains 13 substrate concentrations\n"
     ]
    }
   ],
   "source": [
    "# This is a list of substrate concentrations\n",
    "S = [1.0, 2.0, 3.0, 4.0, 6.0, 8.0, 10.0, 15.0, 20.0, 30.0, 50.0, 75.0, 100.0] #micromolar concentrations\n",
    "# I can determine its length\n",
    "S_length = len(S)\n",
    "# Print the length of the list\n",
    "print('This list contains', S_length, 'substrate concentrations')"
   ]
  },
  {
   "cell_type": "code",
   "execution_count": 15,
   "metadata": {},
   "outputs": [
    {
     "name": "stdout",
     "output_type": "stream",
     "text": [
      "1.0\n"
     ]
    }
   ],
   "source": [
    "# Print the first element in the list\n",
    "print(S[0])"
   ]
  },
  {
   "cell_type": "code",
   "execution_count": 16,
   "metadata": {},
   "outputs": [
    {
     "name": "stdout",
     "output_type": "stream",
     "text": [
      "100000.0\n"
     ]
    }
   ],
   "source": [
    "# Convert the last substrate concentration to nM\n",
    "S_nM = S[12] * 1000\n",
    "print(S_nM)"
   ]
  },
  {
   "cell_type": "code",
   "execution_count": 17,
   "metadata": {},
   "outputs": [
    {
     "name": "stdout",
     "output_type": "stream",
     "text": [
      "[1.0, 2.0, 3.0]\n"
     ]
    },
    {
     "data": {
      "text/plain": [
       "list"
      ]
     },
     "execution_count": 17,
     "metadata": {},
     "output_type": "execute_result"
    }
   ],
   "source": [
    "short_list = S[0:3]\n",
    "print(short_list)\n",
    "type(S)"
   ]
  },
  {
   "cell_type": "code",
   "execution_count": 18,
   "metadata": {},
   "outputs": [
    {
     "name": "stdout",
     "output_type": "stream",
     "text": [
      "[4.0, 6.0, 8.0, 10.0, 15.0, 20.0, 30.0, 50.0, 75.0, 100.0]\n"
     ]
    }
   ],
   "source": [
    "print(S[3:])"
   ]
  },
  {
   "cell_type": "code",
   "execution_count": 19,
   "metadata": {},
   "outputs": [
    {
     "name": "stdout",
     "output_type": "stream",
     "text": [
      "[1.0, 2.0, 3.0, 4.0, 6.0]\n"
     ]
    }
   ],
   "source": [
    "print(S[:5])"
   ]
  },
  {
   "cell_type": "code",
   "execution_count": 20,
   "metadata": {},
   "outputs": [
    {
     "name": "stdout",
     "output_type": "stream",
     "text": [
      "slice1 is [2.0, 3.0, 4.0, 6.0, 8.0, 10.0, 15.0, 20.0, 30.0, 50.0, 75.0, 100.0]\n",
      "slice2 is [1.0, 2.0, 3.0]\n"
     ]
    }
   ],
   "source": [
    "slice1 = S[1:]\n",
    "slice2 = S[:3]\n",
    "print('slice1 is', slice1)\n",
    "print('slice2 is', slice2)"
   ]
  },
  {
   "cell_type": "code",
   "execution_count": 21,
   "metadata": {},
   "outputs": [
    {
     "name": "stdout",
     "output_type": "stream",
     "text": [
      "[6.25, 11.764705882352942, 16.666666666666668, 21.05263157894737, 28.571428571428573, 34.78260869565217, 40.0, 50.0, 57.142857142857146, 66.66666666666667, 76.92307692307692, 83.33333333333333, 86.95652173913044]\n"
     ]
    }
   ],
   "source": [
    "Km, Vmax = 15.0, 100.0\n",
    "initial_velocity = []\n",
    "\n",
    "S = [1.0, 2.0, 3.0, 4.0, 6.0, 8.0, 10.0, 15.0, 20.0, 30.0, 50.0, 75.0, 100.0]\n",
    "for number in S:\n",
    "    V = Vmax * number / (Km + number)\n",
    "    initial_velocity.append(V)\n",
    "\n",
    "print(initial_velocity)"
   ]
  },
  {
   "cell_type": "code",
   "execution_count": 22,
   "metadata": {},
   "outputs": [
    {
     "name": "stdout",
     "output_type": "stream",
     "text": [
      "[0.6622516556291391, 1.3157894736842106, 1.9607843137254901, 2.5974025974025974, 3.8461538461538463, 5.063291139240507, 6.25, 9.090909090909092]\n"
     ]
    }
   ],
   "source": [
    "# Looking at the initial linear portion of the Michaelis-Menten curve when [substrate] <= Km/10\n",
    "\n",
    "Km, Vmax = 150.0, 100.0\n",
    "linear_velocity = []\n",
    "\n",
    "S = [1.0, 2.0, 3.0, 4.0, 6.0, 8.0, 10.0, 15.0, 20.0, 30.0, 50.0, 75.0, 100.0]\n",
    "for number in S:\n",
    "    if number <= Km/10:\n",
    "        V_linear = Vmax * number / (Km + number)\n",
    "        linear_velocity.append(V_linear)\n",
    "\n",
    "print(linear_velocity)"
   ]
  },
  {
   "cell_type": "code",
   "execution_count": 23,
   "metadata": {},
   "outputs": [
    {
     "name": "stdout",
     "output_type": "stream",
     "text": [
      "[-12.5, 14.4, 8.1, 42.0]\n"
     ]
    }
   ],
   "source": [
    "data_list = ['-12.5', 14.4, 8.1, '42']\n",
    "number_list = []\n",
    "for item in data_list:\n",
    "    if type(item) == str:\n",
    "        item = float(item)\n",
    "    number_list.append(item)\n",
    "print(number_list)"
   ]
  },
  {
   "cell_type": "markdown",
   "metadata": {},
   "source": [
    "### Notes on Python Scripting Lesson #1 Introduction\n",
    "\n",
    "1. Use enzyme kinetics examples rather than thermodynamic examples\n",
    "1. I like the idea of introducing Stack Overflow right away\n",
    "1. As a biochemist, I want access to Greek letters almost from the very beginning. I'm not sure where to introduce this, but I think it will be useful. We biochemists like this stuff!"
   ]
  },
  {
   "cell_type": "markdown",
   "metadata": {},
   "source": [
    "Given : $\\pi = 3.14$ , $\\alpha = \\frac{3\\pi}{4}\\, rad$\n",
    "$$\n",
    "\\omega = 2\\pi f \\\\\n",
    "f = \\frac{c}{\\lambda}\\\\\n",
    "\\lambda_0=\\theta^2+\\delta\\\\\n",
    "\\Delta\\lambda = \\frac{1}{\\lambda^2}\n",
    "$$"
   ]
  },
  {
   "cell_type": "markdown",
   "metadata": {},
   "source": [
    "$$\n",
    "\\frac{arg 1}{arg 2} \\\\\n",
    "x^2\\\\\n",
    "e^{i\\pi}\\\\\n",
    "A_i\\\\\n",
    "B_{ij}\\\\\n",
    "\\sqrt[n]{arg}\t\n",
    "$$"
   ]
  },
  {
   "cell_type": "code",
   "execution_count": null,
   "metadata": {},
   "outputs": [],
   "source": []
  }
 ],
 "metadata": {
  "kernelspec": {
   "display_name": "Python 3",
   "language": "python",
   "name": "python3"
  },
  "language_info": {
   "codemirror_mode": {
    "name": "ipython",
    "version": 3
   },
   "file_extension": ".py",
   "mimetype": "text/x-python",
   "name": "python",
   "nbconvert_exporter": "python",
   "pygments_lexer": "ipython3",
   "version": "3.7.6"
  }
 },
 "nbformat": 4,
 "nbformat_minor": 4
}
