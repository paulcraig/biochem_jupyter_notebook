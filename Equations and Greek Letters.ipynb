{
 "cells": [
  {
   "cell_type": "markdown",
   "metadata": {},
   "source": [
    "### Greek Letters in equations and printouts\n",
    "In biochemistry, we use Greek letters all the time. Here is some simple code that will allow you to print Greek letters any time you want. Keep in mind that you will need to execute these commands in a Jupyter notebook before you can use these types of print statements.\n"
   ]
  },
  {
   "cell_type": "code",
   "execution_count": 2,
   "metadata": {},
   "outputs": [
    {
     "name": "stdout",
     "output_type": "stream",
     "text": [
      "['α', 'β', 'γ', 'δ', 'ε', 'ζ', 'η', 'θ', 'ι', 'κ', 'λ', 'μ', 'ν', 'ξ', 'ο', 'π', 'ρ', 'ς', 'σ', 'τ', 'υ', 'φ', 'χ', 'ψ', 'ω']\n"
     ]
    }
   ],
   "source": [
    "greek_letterz=[chr(code) for code in range(945,970)]\n",
    "\n",
    "print(greek_letterz)"
   ]
  },
  {
   "cell_type": "markdown",
   "metadata": {},
   "source": [
    "### Exercise\n",
    "Create a list using print statements where you match the Greek letter with its English word. Hint: we have not looked at lists yet, but you can refer to any of the characters in greek_letterz by its position in the list. So alpha is greek_letterz[0]; beta is greek_letterz[1] and so on."
   ]
  },
  {
   "cell_type": "code",
   "execution_count": 3,
   "metadata": {},
   "outputs": [
    {
     "name": "stdout",
     "output_type": "stream",
     "text": [
      "alpha: α\n",
      "beta: β\n",
      "gamma: γ\n"
     ]
    }
   ],
   "source": [
    "print(\"alpha:\", greek_letterz[0])\n",
    "print(\"beta:\", greek_letterz[1])\n",
    "print(\"gamma:\", greek_letterz[2])"
   ]
  },
  {
   "cell_type": "markdown",
   "metadata": {},
   "source": [
    "### Greek Letters\n",
    "Jessica Nash from MolSSI created a small python file that makes using Greek letters in your output even easier. You simply need to have the file (greek_letters.py) in the same directory as your notebook and use an import command. When you want to insert a Greek letter, you just use greek.letter (for lower case) or greek.LETTER (for upper case). The example below demonstrates how you can use greek.mu to get the symbol for micro, as well as how to print lower and upper case versions of the Greek letter alpha."
   ]
  },
  {
   "cell_type": "code",
   "execution_count": 8,
   "metadata": {},
   "outputs": [
    {
     "name": "stdout",
     "output_type": "stream",
     "text": [
      "34.78260869565217 μM/sec\n",
      "α Α\n"
     ]
    }
   ],
   "source": [
    "import greek_letters as greek\n",
    "Km = 15.0  # Km = 15 mM\n",
    "Vmax = 100.0 # Vmax = 100.0 microM/sec\n",
    "S = 8.0 # Substrate concentration is 8.0 mM\n",
    "V = Vmax * S/(Km + S)  #Michaelis-Menten equation\n",
    "print(V, \" \", greek.mu,\"M/sec\", sep='')\n",
    "print(greek.alpha, greek.ALPHA)"
   ]
  },
  {
   "cell_type": "markdown",
   "metadata": {},
   "source": [
    "### Special case with Greek letters: lower case lambda\n",
    "To print the capital This approach works for all of the lower case and upper case Greek letters, except for lower case lambda, which is a reserved word in Python. In this case, we use greek.Lambda for lower case lambda"
   ]
  },
  {
   "cell_type": "code",
   "execution_count": 9,
   "metadata": {},
   "outputs": [
    {
     "name": "stdout",
     "output_type": "stream",
     "text": [
      "λ Λ\n"
     ]
    }
   ],
   "source": [
    "print(greek.Lambda, greek.LAMBDA)"
   ]
  },
  {
   "cell_type": "markdown",
   "metadata": {},
   "source": [
    "## Writing equations in Jupyter notebooks\n",
    "You may have heard of a formatting language called [LaTeX](https://www.latex-project.org/). Many of your colleagues in physics and math probably use it regularly. You can use LaTeX in markdown cells in Jupyter notebooks to write beautiful equations. At first it may seem complex, but hopefully the syntax and terminology will start to make sense with a bit of practice."
   ]
  },
  {
   "cell_type": "markdown",
   "metadata": {},
   "source": [
    "### Setting up your equations\n",
    "There are two common formats for equations: inline and offset. To create an inline equation in a markdown cell in your Jupyter notebook, just start and end your equation with a single dollar sign (\\\\$). For example this phrase \"\\\\$\\pi = 3.14$ , $\\alpha = \\frac{3\\pi}{4}\\, rad\\\\$\", produces the following equation in your line of text: $\\pi = 3.14$ , $\\alpha = \\frac{3\\pi}{4}\\, rad$."
   ]
  },
  {
   "cell_type": "markdown",
   "metadata": {},
   "source": [
    "To produce a freestanding equation or series of equations, start the equation block with \\\\$\\\\$ and end with \\\\$\\\\$.\n",
    "$$\n",
    "\\omega = 2\\pi f \\\\\n",
    "f = \\frac{c}{\\lambda}\\\\\n",
    "\\lambda_0=\\theta^2+\\delta\\\\\n",
    "\\Delta\\lambda = \\frac{1}{\\lambda^2}\n",
    "$$"
   ]
  },
  {
   "cell_type": "markdown",
   "metadata": {},
   "source": [
    "$$\n",
    "\\frac{arg 1}{arg 2} \\\\\n",
    "x^2\\\\\n",
    "e^{i\\pi}\\\\\n",
    "A_i\\\\\n",
    "B_{ij}\\\\\n",
    "\\sqrt[n]{arg}\t\n",
    "$$"
   ]
  },
  {
   "cell_type": "code",
   "execution_count": null,
   "metadata": {},
   "outputs": [],
   "source": []
  }
 ],
 "metadata": {
  "kernelspec": {
   "display_name": "Python 3",
   "language": "python",
   "name": "python3"
  },
  "language_info": {
   "codemirror_mode": {
    "name": "ipython",
    "version": 3
   },
   "file_extension": ".py",
   "mimetype": "text/x-python",
   "name": "python",
   "nbconvert_exporter": "python",
   "pygments_lexer": "ipython3",
   "version": "3.7.6"
  }
 },
 "nbformat": 4,
 "nbformat_minor": 4
}
