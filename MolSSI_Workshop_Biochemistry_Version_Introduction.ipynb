{
 "cells": [
  {
   "cell_type": "markdown",
   "metadata": {},
   "source": [
    "# MolSSI Workshop Python Scripting for Biochemistry\n",
    "## Introduction\n",
    "\n",
    "This lesson covers Python basics like variable creation and assignment using the Jupyter notebook."
   ]
  },
  {
   "cell_type": "code",
   "execution_count": 1,
   "metadata": {},
   "outputs": [
    {
     "data": {
      "text/plain": [
       "10"
      ]
     },
     "execution_count": 1,
     "metadata": {},
     "output_type": "execute_result"
    }
   ],
   "source": [
    "3 + 7"
   ]
  },
  {
   "cell_type": "code",
   "execution_count": 2,
   "metadata": {},
   "outputs": [
    {
     "data": {
      "text/plain": [
       "-3640.7000000000003"
      ]
     },
     "execution_count": 2,
     "metadata": {},
     "output_type": "execute_result"
    }
   ],
   "source": [
    "deltaH = -541.5 #kJ/mole\n",
    "deltaS = 10.4  #kJ/(mole K)\n",
    "temp = 298       #Kelvin\n",
    "deltaG = deltaH - temp * deltaS\n",
    "deltaG"
   ]
  },
  {
   "cell_type": "markdown",
   "metadata": {},
   "source": [
    "### Biochemistry Alternative"
   ]
  },
  {
   "cell_type": "code",
   "execution_count": 3,
   "metadata": {},
   "outputs": [
    {
     "name": "stdout",
     "output_type": "stream",
     "text": [
      "34.78260869565217 nM/sec\n"
     ]
    }
   ],
   "source": [
    "Km = 15.0  # Km = 15 microM\n",
    "Vmax = 100.0 # Vmax = 100.0 nanoM/sec\n",
    "S = 8.0 # Substrate concentration is 8.0 microM\n",
    "V = Vmax * S/(Km + S)  #Michaelis-Menten equation\n",
    "print(V, \"nM/sec\")"
   ]
  },
  {
   "cell_type": "code",
   "execution_count": 6,
   "metadata": {},
   "outputs": [
    {
     "data": {
      "text/plain": [
       "float"
      ]
     },
     "execution_count": 6,
     "metadata": {},
     "output_type": "execute_result"
    }
   ],
   "source": [
    "type(V)"
   ]
  },
  {
   "cell_type": "code",
   "execution_count": 7,
   "metadata": {},
   "outputs": [
    {
     "data": {
      "text/plain": [
       "float"
      ]
     },
     "execution_count": 7,
     "metadata": {},
     "output_type": "execute_result"
    }
   ],
   "source": [
    "type(Km)"
   ]
  },
  {
   "cell_type": "code",
   "execution_count": 8,
   "metadata": {},
   "outputs": [
    {
     "data": {
      "text/plain": [
       "float"
      ]
     },
     "execution_count": 8,
     "metadata": {},
     "output_type": "execute_result"
    }
   ],
   "source": [
    "type(Vmax)"
   ]
  },
  {
   "cell_type": "code",
   "execution_count": null,
   "metadata": {},
   "outputs": [],
   "source": [
    "Vmax_string = str(Vmax)\n",
    "type(Vmax_string)"
   ]
  },
  {
   "cell_type": "markdown",
   "metadata": {},
   "source": [
    "**TO DO**:  Write about data types here as lists are introduced. Explain the square bracket format and how items are numbered. Plagiarize Ashley's intro in a criminal fashion."
   ]
  },
  {
   "cell_type": "code",
   "execution_count": null,
   "metadata": {},
   "outputs": [],
   "source": [
    "# This is a list of substrate concentrations\n",
    "S = [1.0, 2.0, 3.0, 4.0, 6.0, 8.0, 10.0, 15.0, 20.0, 30.0, 50.0, 75.0, 100.0] #micromolar concentrations\n",
    "# I can determine its length\n",
    "S_length = len(S)\n",
    "# Print the length of the list\n",
    "print('This list contains', S_length, 'substrate concentrations')"
   ]
  },
  {
   "cell_type": "code",
   "execution_count": null,
   "metadata": {},
   "outputs": [],
   "source": [
    "# Print the first element in the list\n",
    "print(S[0])"
   ]
  },
  {
   "cell_type": "code",
   "execution_count": null,
   "metadata": {},
   "outputs": [],
   "source": [
    "# Convert the last substrate concentration to nM\n",
    "S_nM = S[12] * 1000\n",
    "print(S_nM)"
   ]
  },
  {
   "cell_type": "code",
   "execution_count": null,
   "metadata": {},
   "outputs": [],
   "source": [
    "short_list = S[0:3]\n",
    "print(short_list)\n",
    "type(S)"
   ]
  },
  {
   "cell_type": "code",
   "execution_count": null,
   "metadata": {},
   "outputs": [],
   "source": [
    "print(S[3:])"
   ]
  },
  {
   "cell_type": "code",
   "execution_count": null,
   "metadata": {},
   "outputs": [],
   "source": [
    "print(S[:5])"
   ]
  },
  {
   "cell_type": "code",
   "execution_count": null,
   "metadata": {},
   "outputs": [],
   "source": [
    "slice1 = S[1:]\n",
    "slice2 = S[:3]\n",
    "print('slice1 is', slice1)\n",
    "print('slice2 is', slice2)"
   ]
  },
  {
   "cell_type": "code",
   "execution_count": null,
   "metadata": {},
   "outputs": [],
   "source": [
    "Km, Vmax = 15.0, 100.0\n",
    "initial_velocity = []\n",
    "\n",
    "S = [1.0, 2.0, 3.0, 4.0, 6.0, 8.0, 10.0, 15.0, 20.0, 30.0, 50.0, 75.0, 100.0]\n",
    "for number in S:\n",
    "    V = Vmax * number / (Km + number)\n",
    "    initial_velocity.append(V)\n",
    "\n",
    "print(initial_velocity)"
   ]
  },
  {
   "cell_type": "code",
   "execution_count": null,
   "metadata": {},
   "outputs": [],
   "source": [
    "# Looking at the initial linear portion of the Michaelis-Menten curve when [substrate] <= Km/10\n",
    "\n",
    "Km, Vmax = 150.0, 100.0\n",
    "linear_velocity = []\n",
    "\n",
    "S = [1.0, 2.0, 3.0, 4.0, 6.0, 8.0, 10.0, 15.0, 20.0, 30.0, 50.0, 75.0, 100.0]\n",
    "for number in S:\n",
    "    if number <= Km/10:\n",
    "        V_linear = Vmax * number / (Km + number)\n",
    "        linear_velocity.append(V_linear)\n",
    "\n",
    "print(linear_velocity)"
   ]
  },
  {
   "cell_type": "markdown",
   "metadata": {},
   "source": [
    "### Data types\n",
    "Sometimes when you import data from a spreadsheet, it arrives as numbers and sometimes it arrives as strings. Let's consider what might happen if you imported a list of substrate concentrations as a csv (comma separated value) file from a spreadsheet."
   ]
  },
  {
   "cell_type": "code",
   "execution_count": null,
   "metadata": {},
   "outputs": [],
   "source": [
    "data_list = ['-12.5', 14.4, 8.1, '42']\n",
    "number_list = []\n",
    "for item in data_list:\n",
    "    if type(item) == str:\n",
    "        item = float(item)\n",
    "    number_list.append(item)\n",
    "print(number_list)"
   ]
  },
  {
   "cell_type": "markdown",
   "metadata": {},
   "source": [
    "### Notes on Python Scripting Lesson #1 Introduction\n",
    "\n",
    "1. Use enzyme kinetics examples rather than thermodynamic examples\n",
    "1. I like the idea of introducing Stack Overflow right away\n",
    "1. As a biochemist, I want access to Greek letters almost from the very beginning. I'm not sure where to introduce this, but I think it will be useful. We biochemists like this stuff!"
   ]
  },
  {
   "cell_type": "code",
   "execution_count": null,
   "metadata": {},
   "outputs": [],
   "source": []
  }
 ],
 "metadata": {
  "kernelspec": {
   "display_name": "Python 3",
   "language": "python",
   "name": "python3"
  },
  "language_info": {
   "codemirror_mode": {
    "name": "ipython",
    "version": 3
   },
   "file_extension": ".py",
   "mimetype": "text/x-python",
   "name": "python",
   "nbconvert_exporter": "python",
   "pygments_lexer": "ipython3",
   "version": "3.7.6"
  }
 },
 "nbformat": 4,
 "nbformat_minor": 4
}
