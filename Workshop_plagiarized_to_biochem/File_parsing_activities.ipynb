{
 "cells": [
  {
   "cell_type": "markdown",
   "metadata": {},
   "source": [
    "## Working with file paths - the os.path module\n",
    "\n",
    "For this section, we will be working with the file ~ethanol.out~ 4EYR.pdb in the ~outfiles~ data directory.\n",
    "\n",
    "To see this, go to a new cell and type ls. ls stands for ‘list’, and will list all of the contents of the current directory. This command is not a Python command, but will work in the Jupyter notebook. To see everything in the data directory, type"
   ]
  },
  {
   "cell_type": "code",
   "execution_count": 1,
   "metadata": {},
   "outputs": [
    {
     "name": "stdout",
     "output_type": "stream",
     "text": [
      "01-Introduction_biochem_jupyter_book.md\r\n",
      "02-file_parsing_biochem_jupyter_book.md\r\n",
      "File_parsing_activities.ipynb\r\n",
      "Remdesivir | C27H35N6O8P - PubChem.html\r\n",
      "Remdesivir | C27H35N6O8P - PubChem.pdf\r\n",
      "\u001b[1m\u001b[36mdata\u001b[m\u001b[m/\r\n",
      "\u001b[1m\u001b[36mfig\u001b[m\u001b[m/\r\n",
      "remdesivir_pubchem.json\r\n"
     ]
    }
   ],
   "source": [
    "ls"
   ]
  },
  {
   "cell_type": "code",
   "execution_count": 2,
   "metadata": {},
   "outputs": [
    {
     "name": "stdout",
     "output_type": "stream",
     "text": [
      "\u001b[1m\u001b[36mPDB_files\u001b[m\u001b[m/      remdesivir.pdb  remdesivir.sdf  remdesivir.xyz\r\n"
     ]
    }
   ],
   "source": [
    "ls data"
   ]
  },
  {
   "cell_type": "code",
   "execution_count": 3,
   "metadata": {},
   "outputs": [
    {
     "data": {
      "text/plain": [
       "'/Users/pac8612/biochem_jupyter_book/Workshop_plagiarized_to_biochem'"
      ]
     },
     "execution_count": 3,
     "metadata": {},
     "output_type": "execute_result"
    }
   ],
   "source": [
    "pwd"
   ]
  },
  {
   "cell_type": "code",
   "execution_count": 4,
   "metadata": {},
   "outputs": [
    {
     "name": "stdout",
     "output_type": "stream",
     "text": [
      "data/PDB_files/4eyr.pdb\n"
     ]
    }
   ],
   "source": [
    "import os\n",
    "protein_file = os.path.join('data', 'PDB_files','4eyr.pdb')\n",
    "print(protein_file)"
   ]
  },
  {
   "cell_type": "code",
   "execution_count": 5,
   "metadata": {},
   "outputs": [],
   "source": [
    "outfile = open(protein_file,\"r\")\n",
    "data = outfile.readlines()"
   ]
  },
  {
   "cell_type": "code",
   "execution_count": 6,
   "metadata": {},
   "outputs": [],
   "source": [
    "outfile.close()"
   ]
  },
  {
   "cell_type": "code",
   "execution_count": 7,
   "metadata": {},
   "outputs": [],
   "source": [
    "with open(protein_file,\"r\") as outfile2:\n",
    "    data2 = outfile2.readlines()"
   ]
  },
  {
   "cell_type": "code",
   "execution_count": 8,
   "metadata": {},
   "outputs": [
    {
     "name": "stdout",
     "output_type": "stream",
     "text": [
      "2232\n"
     ]
    }
   ],
   "source": [
    "print(len(data))"
   ]
  },
  {
   "cell_type": "code",
   "execution_count": 9,
   "metadata": {},
   "outputs": [
    {
     "name": "stdout",
     "output_type": "stream",
     "text": [
      "2232\n"
     ]
    }
   ],
   "source": [
    "print(len(data2))"
   ]
  },
  {
   "cell_type": "code",
   "execution_count": 10,
   "metadata": {},
   "outputs": [
    {
     "name": "stdout",
     "output_type": "stream",
     "text": [
      "HETNAM     RIT RITONAVIR                                                        \n",
      "\n"
     ]
    }
   ],
   "source": [
    "for line in data:\n",
    "    if 'HETNAM' in line:\n",
    "        HETNAM_line = line\n",
    "        print(HETNAM_line)"
   ]
  },
  {
   "cell_type": "code",
   "execution_count": 11,
   "metadata": {},
   "outputs": [
    {
     "data": {
      "text/plain": [
       "['HETNAM', 'RIT', 'RITONAVIR']"
      ]
     },
     "execution_count": 11,
     "metadata": {},
     "output_type": "execute_result"
    }
   ],
   "source": [
    "HETNAM_line.split()"
   ]
  },
  {
   "cell_type": "code",
   "execution_count": 12,
   "metadata": {},
   "outputs": [
    {
     "name": "stdout",
     "output_type": "stream",
     "text": [
      "['HETNAM', 'RIT', 'RITONAVIR']\n"
     ]
    }
   ],
   "source": [
    "words = HETNAM_line.split()\n",
    "print(words)"
   ]
  },
  {
   "cell_type": "code",
   "execution_count": 13,
   "metadata": {},
   "outputs": [
    {
     "name": "stdout",
     "output_type": "stream",
     "text": [
      "RITONAVIR\n"
     ]
    }
   ],
   "source": [
    "print(words[2])"
   ]
  },
  {
   "cell_type": "code",
   "execution_count": 14,
   "metadata": {},
   "outputs": [
    {
     "name": "stdout",
     "output_type": "stream",
     "text": [
      "RIT\n"
     ]
    }
   ],
   "source": [
    "print(words[1])"
   ]
  },
  {
   "cell_type": "code",
   "execution_count": 15,
   "metadata": {},
   "outputs": [
    {
     "name": "stdout",
     "output_type": "stream",
     "text": [
      "RITONAVIR\n"
     ]
    }
   ],
   "source": [
    "print(words[-1])"
   ]
  },
  {
   "cell_type": "code",
   "execution_count": 16,
   "metadata": {},
   "outputs": [
    {
     "name": "stdout",
     "output_type": "stream",
     "text": [
      "RIT\n"
     ]
    }
   ],
   "source": [
    "abbrev = words[1]\n",
    "print(abbrev)"
   ]
  },
  {
   "cell_type": "code",
   "execution_count": 17,
   "metadata": {},
   "outputs": [
    {
     "name": "stdout",
     "output_type": "stream",
     "text": [
      "REMARK   2 RESOLUTION.    1.80 ANGSTROMS.                                       \n",
      "\n"
     ]
    }
   ],
   "source": [
    "for line in data:\n",
    "    if 'RESOLUTION.' in line:\n",
    "        RESOLUTION_line = line\n",
    "        print(RESOLUTION_line)"
   ]
  },
  {
   "cell_type": "code",
   "execution_count": 18,
   "metadata": {},
   "outputs": [
    {
     "name": "stdout",
     "output_type": "stream",
     "text": [
      "['REMARK', '2', 'RESOLUTION.', '1.80', 'ANGSTROMS.']\n"
     ]
    }
   ],
   "source": [
    "words = RESOLUTION_line.split()\n",
    "print(words)"
   ]
  },
  {
   "cell_type": "code",
   "execution_count": 31,
   "metadata": {},
   "outputs": [
    {
     "name": "stdout",
     "output_type": "stream",
     "text": [
      "['REMARK', '3', 'PROTEIN', 'ATOMS', ':', '1514']\n"
     ]
    }
   ],
   "source": [
    "for line in data:\n",
    "    if 'PROTEIN ATOMS' in line:\n",
    "        PROTEIN_ATOMS_line = line\n",
    "        words = PROTEIN_ATOMS_line.split()\n",
    "        print(words)"
   ]
  },
  {
   "cell_type": "code",
   "execution_count": 41,
   "metadata": {},
   "outputs": [
    {
     "name": "stdout",
     "output_type": "stream",
     "text": [
      "['REMARK   3   PROTEIN ATOMS            ', ' 1514                                    \\n']\n"
     ]
    }
   ],
   "source": [
    "for line in data:\n",
    "    if 'PROTEIN ATOMS' in line:\n",
    "        PROTEIN_ATOM_line = line\n",
    "        words = PROTEIN_ATOM_line.split(':')\n",
    "        print(words)"
   ]
  },
  {
   "cell_type": "code",
   "execution_count": 42,
   "metadata": {},
   "outputs": [
    {
     "name": "stdout",
     "output_type": "stream",
     "text": [
      " 1514                                    \n",
      "\n"
     ]
    }
   ],
   "source": [
    "atoms = words[1]\n",
    "print(atoms)"
   ]
  },
  {
   "cell_type": "code",
   "execution_count": 43,
   "metadata": {},
   "outputs": [
    {
     "ename": "TypeError",
     "evalue": "unsupported operand type(s) for /: 'str' and 'int'",
     "output_type": "error",
     "traceback": [
      "\u001b[0;31m---------------------------------------------------------------------------\u001b[0m",
      "\u001b[0;31mTypeError\u001b[0m                                 Traceback (most recent call last)",
      "\u001b[0;32m<ipython-input-43-5ff957608802>\u001b[0m in \u001b[0;36m<module>\u001b[0;34m\u001b[0m\n\u001b[0;32m----> 1\u001b[0;31m \u001b[0matoms\u001b[0m \u001b[0;34m/\u001b[0m \u001b[0;36m2\u001b[0m\u001b[0;34m\u001b[0m\u001b[0;34m\u001b[0m\u001b[0m\n\u001b[0m",
      "\u001b[0;31mTypeError\u001b[0m: unsupported operand type(s) for /: 'str' and 'int'"
     ]
    }
   ],
   "source": [
    "atoms / 2"
   ]
  },
  {
   "cell_type": "code",
   "execution_count": 44,
   "metadata": {},
   "outputs": [
    {
     "data": {
      "text/plain": [
       "757.0"
      ]
     },
     "execution_count": 44,
     "metadata": {},
     "output_type": "execute_result"
    }
   ],
   "source": [
    "atoms = float(atoms)\n",
    "atoms/2"
   ]
  },
  {
   "cell_type": "code",
   "execution_count": 21,
   "metadata": {},
   "outputs": [
    {
     "data": {
      "text/plain": [
       "str"
      ]
     },
     "execution_count": 21,
     "metadata": {},
     "output_type": "execute_result"
    }
   ],
   "source": [
    "type(words[-1])"
   ]
  },
  {
   "cell_type": "code",
   "execution_count": 22,
   "metadata": {},
   "outputs": [
    {
     "name": "stdout",
     "output_type": "stream",
     "text": [
      "3028.0\n"
     ]
    }
   ],
   "source": [
    "words[-1] = float(words[-1])\n",
    "print(words[-1] * 2)"
   ]
  },
  {
   "cell_type": "markdown",
   "metadata": {},
   "source": [
    "Exercise: Extract data for 4eyr.pdb to tell you the resolution, number of protein atoms, and number of heterogen atoms. Your output should look like this:\n",
    "RESOLUTION : 1.80 ANGSTROMS\n",
    "PROTEIN ATOMS : 1514\n",
    "HETEROGEN ATOMS : 50"
   ]
  },
  {
   "cell_type": "code",
   "execution_count": 23,
   "metadata": {},
   "outputs": [
    {
     "name": "stdout",
     "output_type": "stream",
     "text": [
      "RESOLUTION : 1.80 ANGSTROMS\n",
      "PROTEIN ATOMS : 1514\n",
      "HETEROGEN ATOMS : 50\n"
     ]
    }
   ],
   "source": [
    "for line in data:\n",
    "    if 'RESOLUTION.' in line:\n",
    "        RESOLUTION_line = line\n",
    "        words = RESOLUTION_line.split()\n",
    "        words[2] = words[2].rstrip('.')  # to remove the . from the end of RESOLUTION.\n",
    "        words[-1] = words[-1].rstrip('.')\n",
    "        print(words[2], ':', words[3], words[-1])\n",
    "    if 'PROTEIN ATOMS' in line:\n",
    "        PROTEIN_ATOMS_line = line\n",
    "        words = PROTEIN_ATOMS_line.split()\n",
    "        print(words[2], words[3], ':', words[5] )\n",
    "    if 'HETEROGEN ATOMS' in line:\n",
    "        HETEROGEN_ATOMS_line = line\n",
    "        words = HETEROGEN_ATOMS_line.split()\n",
    "        print(words[2], words[3], ':', words[5])"
   ]
  },
  {
   "cell_type": "code",
   "execution_count": 57,
   "metadata": {},
   "outputs": [
    {
     "name": "stdout",
     "output_type": "stream",
     "text": [
      "310:SEQRES   1 A   99  PRO GLN ILE THR LEU TRP GLN ARG PRO ILE VAL THR ILE          \n",
      "\n",
      "311:SEQRES   2 A   99  LYS ILE GLY GLY GLN LEU LYS GLU ALA LEU LEU ASN THR          \n",
      "\n",
      "312:SEQRES   3 A   99  GLY ALA ASP ASP THR VAL LEU GLU GLU VAL ASN LEU PRO          \n",
      "\n",
      "313:SEQRES   4 A   99  GLY ARG TRP LYS PRO LYS LEU ILE GLY GLY ILE GLY GLY          \n",
      "\n",
      "314:SEQRES   5 A   99  PHE VAL LYS VAL ARG GLN TYR ASP GLN VAL PRO ILE GLU          \n",
      "\n",
      "315:SEQRES   6 A   99  ILE CYS GLY HIS LYS VAL ILE GLY THR VAL LEU VAL GLY          \n",
      "\n",
      "316:SEQRES   7 A   99  PRO THR PRO THR ASN VAL ILE GLY ARG ASN LEU MET THR          \n",
      "\n",
      "317:SEQRES   8 A   99  GLN ILE GLY CYS THR LEU ASN PHE                              \n",
      "\n",
      "318:SEQRES   1 B   99  PRO GLN ILE THR LEU TRP GLN ARG PRO ILE VAL THR ILE          \n",
      "\n",
      "319:SEQRES   2 B   99  LYS ILE GLY GLY GLN LEU LYS GLU ALA LEU LEU ASN THR          \n",
      "\n",
      "320:SEQRES   3 B   99  GLY ALA ASP ASP THR VAL LEU GLU GLU VAL ASN LEU PRO          \n",
      "\n",
      "321:SEQRES   4 B   99  GLY ARG TRP LYS PRO LYS LEU ILE GLY GLY ILE GLY GLY          \n",
      "\n",
      "322:SEQRES   5 B   99  PHE VAL LYS VAL ARG GLN TYR ASP GLN VAL PRO ILE GLU          \n",
      "\n",
      "323:SEQRES   6 B   99  ILE CYS GLY HIS LYS VAL ILE GLY THR VAL LEU VAL GLY          \n",
      "\n",
      "324:SEQRES   7 B   99  PRO THR PRO THR ASN VAL ILE GLY ARG ASN LEU MET THR          \n",
      "\n",
      "325:SEQRES   8 B   99  GLN ILE GLY CYS THR LEU ASN PHE                              \n",
      "\n"
     ]
    }
   ],
   "source": [
    "# to get the primary sequence for 4EYR\n",
    "\n",
    "for linenum, line in enumerate(data):\n",
    "    if 'SEQRES' in line:\n",
    "        print(linenum, ':', line, sep = '')"
   ]
  },
  {
   "cell_type": "code",
   "execution_count": 25,
   "metadata": {},
   "outputs": [
    {
     "name": "stdout",
     "output_type": "stream",
     "text": [
      "There are 1928 lines in 1vxh.pdb\n"
     ]
    }
   ],
   "source": [
    "# Does this approach work with other PDB files? Let's try myoglobin (PDB entry 1vxh)\n",
    "# First we must set the path to the file\n",
    "protein_file = os.path.join('data', 'PDB_files','1vxh.pdb')\n",
    "with open(protein_file,\"r\") as outfile3:\n",
    "    data3 = outfile3.readlines()\n",
    "    print(\"There are\", len(data3), \"lines in 1vxh.pdb\")\n"
   ]
  },
  {
   "cell_type": "code",
   "execution_count": 26,
   "metadata": {},
   "outputs": [
    {
     "name": "stdout",
     "output_type": "stream",
     "text": [
      "HETNAM     SO4 SULFATE ION                                                      \n",
      "\n",
      "HETNAM     HEM PROTOPORPHYRIN IX CONTAINING FE                                  \n",
      "\n"
     ]
    }
   ],
   "source": [
    "for line in data3:\n",
    "    if 'HETNAM' in line:\n",
    "        HETNAM_line = line\n",
    "        print(HETNAM_line)"
   ]
  },
  {
   "cell_type": "code",
   "execution_count": 27,
   "metadata": {},
   "outputs": [
    {
     "name": "stdout",
     "output_type": "stream",
     "text": [
      "['HETNAM', 'HEM', 'PROTOPORPHYRIN', 'IX', 'CONTAINING', 'FE']\n"
     ]
    }
   ],
   "source": [
    "words = HETNAM_line.split()\n",
    "print(words)"
   ]
  },
  {
   "cell_type": "code",
   "execution_count": 28,
   "metadata": {},
   "outputs": [
    {
     "name": "stdout",
     "output_type": "stream",
     "text": [
      "HEM : PROTOPORPHYRIN IX CONTAINING FE\n"
     ]
    }
   ],
   "source": [
    "print(words[1], ':', words[2], words[3], words[4], words[5])"
   ]
  },
  {
   "cell_type": "code",
   "execution_count": 29,
   "metadata": {
    "scrolled": true
   },
   "outputs": [
    {
     "name": "stdout",
     "output_type": "stream",
     "text": [
      "RESOLUTION : 1.70 ANGSTROMS\n",
      "PROTEIN ATOMS : 1217\n",
      "HETEROGEN ATOMS : 54\n"
     ]
    }
   ],
   "source": [
    "for line in data3:\n",
    "    if 'RESOLUTION.' in line:\n",
    "        RESOLUTION_line = line\n",
    "        words = RESOLUTION_line.split()\n",
    "        words[2] = words[2].rstrip('.')  # to remove the . from the end of RESOLUTION.\n",
    "        words[-1] = words[-1].rstrip('.')\n",
    "        print(words[2], ':', words[3], words[-1])\n",
    "    if 'PROTEIN ATOMS' in line:\n",
    "        PROTEIN_ATOMS_line = line\n",
    "        words = PROTEIN_ATOMS_line.split()\n",
    "        print(words[2], words[3], ':', words[5] )\n",
    "    if 'HETEROGEN ATOMS' in line:\n",
    "        HETEROGEN_ATOMS_line = line\n",
    "        words = HETEROGEN_ATOMS_line.split()\n",
    "        print(words[2], words[3], ':', words[5])"
   ]
  },
  {
   "cell_type": "code",
   "execution_count": 48,
   "metadata": {},
   "outputs": [
    {
     "name": "stdout",
     "output_type": "stream",
     "text": [
      "data/PDB_files/7tim.pdb\n"
     ]
    }
   ],
   "source": [
    "protein_file = os.path.join('data', 'PDB_files','7tim.pdb')\n",
    "print(protein_file)"
   ]
  },
  {
   "cell_type": "code",
   "execution_count": 59,
   "metadata": {},
   "outputs": [
    {
     "name": "stdout",
     "output_type": "stream",
     "text": [
      "RESOLUTION : 1.90 ANGSTROMS\n",
      "PROTEIN ATOMS : 3766\n",
      "HETEROGEN ATOMS : 20\n",
      "HETNAM Abbreviation: PGH Full name: PHOSPHOGLYCOLOHYDROXAMIC\n"
     ]
    }
   ],
   "source": [
    "with open(protein_file,\"r\") as outfile2:\n",
    "    data2 = outfile2.readlines()\n",
    "for line in data2:\n",
    "    if 'RESOLUTION.' in line:\n",
    "        RESOLUTION_line = line\n",
    "        words = RESOLUTION_line.split()\n",
    "        words[2] = words[2].rstrip('.')  # to remove the . from the end of RESOLUTION.\n",
    "        words[-1] = words[-1].rstrip('.')\n",
    "        print(words[2], ':', words[3], words[-1])\n",
    "    if 'PROTEIN ATOMS' in line:\n",
    "        PROTEIN_ATOMS_line = line\n",
    "        words = PROTEIN_ATOMS_line.split()\n",
    "        print(words[2], words[3], ':', words[5] )\n",
    "    if 'HETEROGEN ATOMS' in line:\n",
    "        HETEROGEN_ATOMS_line = line\n",
    "        words = HETEROGEN_ATOMS_line.split()\n",
    "        print(words[2], words[3], ':', words[5])\n",
    "    if 'HETNAM' in line:\n",
    "        HETNAM_line = line\n",
    "        words = HETNAM_line.split()\n",
    "        print('HETNAM Abbreviation:', words[1], 'Full name:', words[2])"
   ]
  },
  {
   "cell_type": "code",
   "execution_count": 62,
   "metadata": {},
   "outputs": [
    {
     "name": "stdout",
     "output_type": "stream",
     "text": [
      "369:SEQRES   1 A  247  ALA ARG THR PHE PHE VAL GLY GLY ASN PHE LYS LEU ASN          \n",
      "\n"
     ]
    }
   ],
   "source": [
    "for linenum, line in enumerate(data2):\n",
    "    if 'SEQRES   1 A' in line:\n",
    "        print(linenum, ':', line, sep = '')"
   ]
  },
  {
   "cell_type": "code",
   "execution_count": 63,
   "metadata": {},
   "outputs": [
    {
     "name": "stdout",
     "output_type": "stream",
     "text": [
      "SEQRES   2 A  247  GLY SER LYS GLN SER ILE LYS GLU ILE VAL GLU ARG LEU          \n",
      "\n",
      "SEQRES   3 A  247  ASN THR ALA SER ILE PRO GLU ASN VAL GLU VAL VAL ILE          \n",
      "\n",
      "SEQRES   4 A  247  CYS PRO PRO ALA THR TYR LEU ASP TYR SER VAL SER LEU          \n",
      "\n",
      "SEQRES   5 A  247  VAL LYS LYS PRO GLN VAL THR VAL GLY ALA GLN ASN ALA          \n",
      "\n",
      "SEQRES   6 A  247  TYR LEU LYS ALA SER GLY ALA PHE THR GLY GLU ASN SER          \n",
      "\n"
     ]
    }
   ],
   "source": [
    "print(data2[370])\n",
    "print(data2[371])\n",
    "print(data2[372])\n",
    "print(data2[373])\n",
    "print(data2[374])"
   ]
  },
  {
   "cell_type": "markdown",
   "metadata": {},
   "source": [
    "# Extracting the Atom and Heteroatom Coordinates\n",
    "PDB files contain a lot of information and sometimes you only want the atom and heteroatom coordinates. One reason for doing this is when a program cannot read a particular PDB file for some unknown reason. You could spend hours trying to find the problem or you could just ask Python to pull out the coordinates of the structure and load them in your program. "
   ]
  },
  {
   "cell_type": "code",
   "execution_count": null,
   "metadata": {},
   "outputs": [],
   "source": []
  },
  {
   "cell_type": "code",
   "execution_count": null,
   "metadata": {},
   "outputs": [],
   "source": []
  }
 ],
 "metadata": {
  "kernelspec": {
   "display_name": "Python 3",
   "language": "python",
   "name": "python3"
  },
  "language_info": {
   "codemirror_mode": {
    "name": "ipython",
    "version": 3
   },
   "file_extension": ".py",
   "mimetype": "text/x-python",
   "name": "python",
   "nbconvert_exporter": "python",
   "pygments_lexer": "ipython3",
   "version": "3.7.6"
  }
 },
 "nbformat": 4,
 "nbformat_minor": 4
}
