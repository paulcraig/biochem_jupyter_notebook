{
 "cells": [
  {
   "cell_type": "code",
   "execution_count": 3,
   "metadata": {},
   "outputs": [],
   "source": [
    "import os\n",
    "import glob"
   ]
  },
  {
   "cell_type": "code",
   "execution_count": 4,
   "metadata": {},
   "outputs": [
    {
     "data": {
      "text/plain": [
       "'/Users/pac8612/biochem_jupyter_book'"
      ]
     },
     "execution_count": 4,
     "metadata": {},
     "output_type": "execute_result"
    }
   ],
   "source": [
    "pwd"
   ]
  },
  {
   "cell_type": "code",
   "execution_count": 6,
   "metadata": {},
   "outputs": [
    {
     "name": "stdout",
     "output_type": "stream",
     "text": [
      "/Users/pac8612/biochem_jupyter_book/Workshop_plagiarized_to_biochem\n"
     ]
    }
   ],
   "source": [
    "cd Workshop_plagiarized_to_biochem/"
   ]
  },
  {
   "cell_type": "code",
   "execution_count": 7,
   "metadata": {},
   "outputs": [
    {
     "name": "stdout",
     "output_type": "stream",
     "text": [
      "01-Introduction_biochem_jupyter_book.md\r\n",
      "02-file_parsing_biochem_jupyter_book.md\r\n",
      "03-multiple_files_biochem_jupyter_notebook.md\r\n",
      "File_parsing_activities.ipynb\r\n",
      "Remdesivir | C27H35N6O8P - PubChem.html\r\n",
      "Remdesivir | C27H35N6O8P - PubChem.pdf\r\n",
      "\u001b[1m\u001b[36mdata\u001b[m\u001b[m/\r\n",
      "\u001b[1m\u001b[36mfig\u001b[m\u001b[m/\r\n",
      "remdesivir_pubchem.json\r\n"
     ]
    }
   ],
   "source": [
    "ls"
   ]
  },
  {
   "cell_type": "code",
   "execution_count": 9,
   "metadata": {},
   "outputs": [
    {
     "name": "stdout",
     "output_type": "stream",
     "text": [
      "data/PDB_files\n"
     ]
    }
   ],
   "source": [
    "outfile = os.path.join('data', 'PDB_files')\n",
    "print(outfile)"
   ]
  },
  {
   "cell_type": "code",
   "execution_count": 11,
   "metadata": {},
   "outputs": [
    {
     "name": "stdout",
     "output_type": "stream",
     "text": [
      "1vxh.pdb  4ezi.pdb  6lsv.pdb  7bfv.pdb  7dno.pdb  7tim.pdb\r\n",
      "4eyr.pdb  6l35.pdb  6vqs.pdb  7bgj.pdb  7l1f.pdb\r\n"
     ]
    }
   ],
   "source": [
    "ls data/PDB_files"
   ]
  },
  {
   "cell_type": "code",
   "execution_count": 13,
   "metadata": {},
   "outputs": [
    {
     "name": "stdout",
     "output_type": "stream",
     "text": [
      "data/PDB_files/*.pdb\n"
     ]
    }
   ],
   "source": [
    "file_location = os.path.join('data', 'PDB_files', '*.pdb')\n",
    "print(file_location)"
   ]
  },
  {
   "cell_type": "code",
   "execution_count": 14,
   "metadata": {},
   "outputs": [
    {
     "name": "stdout",
     "output_type": "stream",
     "text": [
      "['data/PDB_files/6l35.pdb', 'data/PDB_files/7tim.pdb', 'data/PDB_files/4eyr.pdb', 'data/PDB_files/4ezi.pdb', 'data/PDB_files/7l1f.pdb', 'data/PDB_files/6vqs.pdb', 'data/PDB_files/7bgj.pdb', 'data/PDB_files/7bfv.pdb', 'data/PDB_files/1vxh.pdb', 'data/PDB_files/7dno.pdb', 'data/PDB_files/6lsv.pdb']\n"
     ]
    }
   ],
   "source": [
    "import glob\n",
    "filenames = glob.glob(file_location)\n",
    "print(filenames)"
   ]
  },
  {
   "cell_type": "code",
   "execution_count": 16,
   "metadata": {},
   "outputs": [
    {
     "name": "stdout",
     "output_type": "stream",
     "text": [
      "3.23\n",
      "1.9\n",
      "1.8\n",
      "1.15\n",
      "3.89\n",
      "2.38\n",
      "6.9\n",
      "1.84\n",
      "1.7\n",
      "2.03\n",
      "2.65\n"
     ]
    }
   ],
   "source": [
    "for f in filenames:\n",
    "    outfile = open(f,'r')\n",
    "    data = outfile.readlines()\n",
    "    outfile.close()\n",
    "    for line in data:\n",
    "        if 'RESOLUTION.' in line:\n",
    "            res_line = line\n",
    "            words = res_line.split()\n",
    "            resolution = float(words[3])\n",
    "            print(resolution)"
   ]
  },
  {
   "cell_type": "code",
   "execution_count": 17,
   "metadata": {},
   "outputs": [
    {
     "name": "stdout",
     "output_type": "stream",
     "text": [
      "data/PDB_files/6l35.pdb\n",
      "6l35.pdb\n"
     ]
    }
   ],
   "source": [
    "first_file = filenames[0]\n",
    "print(first_file)\n",
    "\n",
    "file_name = os.path.basename(first_file)\n",
    "print(file_name)"
   ]
  },
  {
   "cell_type": "code",
   "execution_count": 18,
   "metadata": {},
   "outputs": [
    {
     "name": "stdout",
     "output_type": "stream",
     "text": [
      "6l35\n"
     ]
    }
   ],
   "source": [
    "split_filename = file_name.split('.')\n",
    "PDB_ID = split_filename[0]\n",
    "print(PDB_ID)"
   ]
  },
  {
   "cell_type": "code",
   "execution_count": 26,
   "metadata": {},
   "outputs": [
    {
     "name": "stdout",
     "output_type": "stream",
     "text": [
      "6l35 : 3.23\n",
      "7tim : 1.9\n",
      "4eyr : 1.8\n",
      "4ezi : 1.15\n",
      "7l1f : 3.89\n",
      "6vqs : 2.38\n",
      "7bgj : 6.9\n",
      "7bfv : 1.84\n",
      "1vxh : 1.7\n",
      "7dno : 2.03\n",
      "6lsv : 2.65\n"
     ]
    }
   ],
   "source": [
    "for f in filenames:\n",
    "    # Get the PDB ID\n",
    "    file_name = os.path.basename(f)\n",
    "    split_filename = file_name.split('.')\n",
    "    molecule_name = split_filename[0]\n",
    "\n",
    "    # Read the data\n",
    "    outfile = open(f,'r')\n",
    "    data = outfile.readlines()\n",
    "    outfile.close()\n",
    "\n",
    "    # Loop through the data\n",
    "    for line in data:\n",
    "        if 'RESOLUTION.' in line:\n",
    "            res_line = line\n",
    "            words = res_line.split()\n",
    "            resolution = float(words[3])\n",
    "            print(molecule_name, \":\", resolution)"
   ]
  },
  {
   "cell_type": "markdown",
   "metadata": {},
   "source": [
    "## Printing to a file"
   ]
  },
  {
   "cell_type": "code",
   "execution_count": 30,
   "metadata": {},
   "outputs": [],
   "source": [
    "datafile = open('resolutions.txt', 'w+')  #This opens the file for writing\n",
    "for f in filenames:\n",
    "    # Get the PDB ID\n",
    "    file_name = os.path.basename(f)\n",
    "    split_filename = file_name.split('.')\n",
    "    molecule_name = split_filename[0]\n",
    "    \n",
    "    # Read the data\n",
    "    outfile = open(f,'r')\n",
    "    data = outfile.readlines()\n",
    "    outfile.close()    \n",
    "    \n",
    "    # Loop through the data\n",
    "    for line in data:\n",
    "        if 'RESOLUTION.' in line:\n",
    "            res_line = line\n",
    "            words = res_line.split()\n",
    "            resolution = float(words[3])\n",
    "            datafile.write(F'{molecule_name} \\t {resolution} \\n')\n",
    "            \n",
    "datafile.close()"
   ]
  },
  {
   "cell_type": "markdown",
   "metadata": {},
   "source": [
    "## Exercise\n",
    "The goal of this exercise is to report the Enzyme Commission Class for a series of enzyme structures in PDB files and write them to a new text file called 'EC_class.txt'. The files are located in the data/enzymes folder.\n"
   ]
  },
  {
   "cell_type": "code",
   "execution_count": 50,
   "metadata": {
    "scrolled": true
   },
   "outputs": [
    {
     "name": "stdout",
     "output_type": "stream",
     "text": [
      "7tim  5.3.1.1\n",
      "6zt7  3.2.1.55\n",
      "5eu9  4.2.1.11\n",
      "3iva  2.1.1.13\n",
      "2pkr  1.2.1.13\n",
      "3vnd  4.2.1.20\n",
      "5veu  1.14.14.1\n"
     ]
    }
   ],
   "source": [
    "# Set up the path to the files\n",
    "\n",
    "file_location = os.path.join('data', 'enzymes', '*.pdb')\n",
    "#print(file_location)\n",
    "\n",
    "# Make sure you can see all of the files\n",
    "\n",
    "import glob\n",
    "filenames = glob.glob(file_location)\n",
    "#print(filenames)\n",
    "\n",
    "# Generate the desired output\n",
    "\n",
    "for f in filenames:\n",
    "    # Get the PDB ID\n",
    "    file_name = os.path.basename(f)\n",
    "    split_filename = file_name.split('.')\n",
    "    molecule_name = split_filename[0]\n",
    "    \n",
    "    outfile = open(f,'r')\n",
    "    data = outfile.readlines()\n",
    "    outfile.close()\n",
    "    for line in data:\n",
    "        if 'EC:' in line:\n",
    "            ec_line = line\n",
    "            words1 = ec_line.split(';')    \n",
    "            # print(words1)\n",
    "            words2 = words1[0].split(':')\n",
    "            print(molecule_name, words2[1])"
   ]
  },
  {
   "cell_type": "code",
   "execution_count": null,
   "metadata": {},
   "outputs": [],
   "source": []
  }
 ],
 "metadata": {
  "kernelspec": {
   "display_name": "Python 3",
   "language": "python",
   "name": "python3"
  },
  "language_info": {
   "codemirror_mode": {
    "name": "ipython",
    "version": 3
   },
   "file_extension": ".py",
   "mimetype": "text/x-python",
   "name": "python",
   "nbconvert_exporter": "python",
   "pygments_lexer": "ipython3",
   "version": "3.7.6"
  }
 },
 "nbformat": 4,
 "nbformat_minor": 4
}
